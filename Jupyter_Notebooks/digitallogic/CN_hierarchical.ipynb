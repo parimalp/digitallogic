{
 "cells": [
  {
   "cell_type": "markdown",
   "metadata": {},
   "source": [
    "## Notebook example showing how to use simple APIs to validate the circuitry built using Vivado IPI blocks\n",
    "\n",
    "The available methods are:\n",
    "* bit_write(bit#, value)\n",
    "* bit_read(bit#)\n",
    "* clk(bit#)\n",
    "* bus_write(end_index, start_index, value)\n",
    "* bus_read(end_index, start_index)\n",
    "\n",
    "### This example shows a *minority gate*, a *3-to-8 decoder*, and a *priority_encoder*"
   ]
  },
  {
   "cell_type": "markdown",
   "metadata": {},
   "source": [
    "<img src=\"images/CN_hierarchical.png\" width=\"600px\"/>"
   ]
  },
  {
   "cell_type": "markdown",
   "metadata": {},
   "source": [
    "After implementing the design and generating a bitstream, copy the bitstream in pynq/overlays/digitallogic using Samba. Rename the bitstream file to digitallogic.bit if necessary. The first step is to load the overlay (design) using the following Python code."
   ]
  },
  {
   "cell_type": "code",
   "execution_count": null,
   "metadata": {},
   "outputs": [],
   "source": [
    "from pynq.overlays.digitallogic import DigitalLogicOverlay\n",
    "\n",
    "digital = DigitalLogicOverlay(\"digitallogic.bit\")\n"
   ]
  },
  {
   "cell_type": "markdown",
   "metadata": {},
   "source": [
    "### Testing the _minority gate_ \n",
    "Input all possible binary combinations (eight, in this case) and read the output. Since the circuit is the *minority gate*, the output will be 1 when number of 1s input is either 0 or 1.  The minority gate has three input from Dout_00, Dout_01, and Dout_02 and outputs on Din_00."
   ]
  },
  {
   "cell_type": "code",
   "execution_count": null,
   "metadata": {},
   "outputs": [],
   "source": [
    "for i in range (0, 8):\n",
    "    digital.bus_write(2,0,i)\n",
    "    result=digital.bit_read(0)\n",
    "    print(i, result)\n"
   ]
  },
  {
   "cell_type": "markdown",
   "metadata": {},
   "source": [
    "### Testing the _decoder_ \n",
    "The circuit takes 3-input from Dout_03, Dout_04, and Dout_05. The 8-bit output of the circuit is read from Din_01 to Din_08. We input all possible binary combinations (eight, in this case) through *bus_write* and read the 8-bit output through *bus_read*. Since the circuit is the decoder, the output will have only 1 depending on the input combination."
   ]
  },
  {
   "cell_type": "code",
   "execution_count": null,
   "metadata": {},
   "outputs": [],
   "source": [
    "for i in range (0,8):\n",
    "    digital.bus_write(5,3,i) \n",
    "    result=digital.bus_read(8,1)\n",
    "    result=\"{0:b}\".format(result)\n",
    "    result=result.zfill(8)\n",
    "    print(\"{0:b}\".format(i).zfill(3), result)\n"
   ]
  },
  {
   "cell_type": "markdown",
   "metadata": {},
   "source": [
    "### Testing the _priority encoder_ \n",
    "The circuit takes 8-input from Dout_06 through Dout_12. All possible binary combinations (128, in this case) are input. *Note: Dout_12 has the highest priority.* The  three encoded values and valid signal are read from Din_09 through Din_12, Din_12 being the valid signal. "
   ]
  },
  {
   "cell_type": "code",
   "execution_count": null,
   "metadata": {},
   "outputs": [],
   "source": [
    "print(\"Input\", \"      Output\", \" Valid\")\n",
    "for i in range (0,128):\n",
    "    digital.bus_write(12,6,i) \n",
    "    result=digital.bus_read(12,9)\n",
    "    result=\"{0:b}\".format(result)\n",
    "    result=result.zfill(4)\n",
    "    valid=result[0]\n",
    "    print(\"{0:b}\".format(i).zfill(7), \"   \", result[3], result[2], result[1], \" \", valid)"
   ]
  },
  {
   "cell_type": "code",
   "execution_count": null,
   "metadata": {},
   "outputs": [],
   "source": []
  }
 ],
 "metadata": {
  "kernelspec": {
   "display_name": "Python 3",
   "language": "python",
   "name": "python3"
  },
  "language_info": {
   "codemirror_mode": {
    "name": "ipython",
    "version": 3
   },
   "file_extension": ".py",
   "mimetype": "text/x-python",
   "name": "python",
   "nbconvert_exporter": "python",
   "pygments_lexer": "ipython3",
   "version": "3.6.0"
  }
 },
 "nbformat": 4,
 "nbformat_minor": 2
}
