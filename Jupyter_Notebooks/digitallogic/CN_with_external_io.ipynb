{
 "cells": [
  {
   "cell_type": "markdown",
   "metadata": {},
   "source": [
    "## Notebook example showing how to use APIs to interact with the circuitry built using Vivado IPI blocks\n",
    "\n",
    "The available methods are:\n",
    "* bit_write(bit#, value)\n",
    "* bit_read(bit#)\n",
    "* clk(bit#)\n",
    "* bus_write(start_index, end_index, value)\n",
    "* bus_read(start_index, end_index)\n",
    "\n",
    "### This example shows a minority gate, whose output would be 1 when the number of inputs being logic-1 is less than half of the toatl number of inputs, in this case 1 or none.\n",
    "\n",
    "In this design, the minority gate gets two of its three inputs from the *digital_ps* block and the third input is either from the *digital_ps* block or an OR function of the two switches. The outof the minority gate is read from Din_00 port and is displayed, after inverting it, on LED0 (right-most LED)"
   ]
  },
  {
   "cell_type": "markdown",
   "metadata": {},
   "source": [
    "<img src=\"images/CN_with_external_io.PNG\" width=\"600px\"/>"
   ]
  },
  {
   "cell_type": "markdown",
   "metadata": {},
   "source": [
    "After implementing the design and generating a bitstream, copy the bitstream in pynq/overlays/digitallogic using Samba. Rename the bitstream file to digitallogic.bit if necessary. The first step is to load the overlay (design) using the following Python code."
   ]
  },
  {
   "cell_type": "code",
   "execution_count": 1,
   "metadata": {},
   "outputs": [
    {
     "data": {
      "application/javascript": [
       "\n",
       "require(['notebook/js/codecell'], function(codecell) {\n",
       "  codecell.CodeCell.options_default.highlight_modes[\n",
       "      'magic_text/x-csrc'] = {'reg':[/^%%microblaze/]};\n",
       "  Jupyter.notebook.events.one('kernel_ready.Kernel', function(){\n",
       "      Jupyter.notebook.get_cells().map(function(cell){\n",
       "          if (cell.cell_type == 'code'){ cell.auto_highlight(); } }) ;\n",
       "  });\n",
       "});\n"
      ]
     },
     "metadata": {},
     "output_type": "display_data"
    }
   ],
   "source": [
    "from pynq.overlays.digitallogic import DigitalLogicOverlay\n",
    "\n",
    "digital = DigitalLogicOverlay(\"digitallogic.bit\")"
   ]
  },
  {
   "cell_type": "markdown",
   "metadata": {},
   "source": [
    "Make sure that both switches are in the OFF position. Write \"101\" pattern to Dout_02, Dout_01, Dout_00 pins. Write \"0\" to Dout_03 pin which will provide Dout_02 as a third input to the minority gate. Read the result from Din_00 pin. The \"101\" pattern will be input to the minority gate.  \n",
    "The output read will be 0 and the LED0 will be ON  \n",
    "Changing switches won't affect the output or LED0 as the OR gate output is not propagating to the minority gate"
   ]
  },
  {
   "cell_type": "code",
   "execution_count": 18,
   "metadata": {},
   "outputs": [
    {
     "name": "stdout",
     "output_type": "stream",
     "text": [
      "0\n"
     ]
    }
   ],
   "source": [
    "digital.bit_write(0,1)\n",
    "digital.bit_write(1,0)\n",
    "digital.bit_write(2,1)\n",
    "digital.bit_write(3,0)\n",
    "result=digital.bit_read(0)\n",
    "print(result)\n"
   ]
  },
  {
   "cell_type": "markdown",
   "metadata": {},
   "source": [
    "Make sure that both switches are in the OFF position. Write \"1\" to Dout_03 pin which will provide the OR gate output as a third input to the minority gate. Read the result from Din_00 pin.  \n",
    "The minority gate output will be 1 and the minority_led is ON or OFF depending on if both switches are in the OFF position or one one the switches is ON"
   ]
  },
  {
   "cell_type": "code",
   "execution_count": 19,
   "metadata": {},
   "outputs": [
    {
     "name": "stdout",
     "output_type": "stream",
     "text": [
      "1\n"
     ]
    }
   ],
   "source": [
    "digital.bit_write(3,1)\n",
    "result=digital.bit_read(0)\n",
    "print(result)\n"
   ]
  },
  {
   "cell_type": "code",
   "execution_count": null,
   "metadata": {},
   "outputs": [],
   "source": []
  }
 ],
 "metadata": {
  "kernelspec": {
   "display_name": "Python 3",
   "language": "python",
   "name": "python3"
  },
  "language_info": {
   "codemirror_mode": {
    "name": "ipython",
    "version": 3
   },
   "file_extension": ".py",
   "mimetype": "text/x-python",
   "name": "python",
   "nbconvert_exporter": "python",
   "pygments_lexer": "ipython3",
   "version": "3.6.0"
  }
 },
 "nbformat": 4,
 "nbformat_minor": 2
}
