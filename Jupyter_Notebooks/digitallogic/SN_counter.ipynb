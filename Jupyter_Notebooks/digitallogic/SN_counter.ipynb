{
 "cells": [
  {
   "cell_type": "markdown",
   "metadata": {},
   "source": [
    "## Notebook example showing how to use various methods to talk to a circuitry built using Vivado IPI\n",
    "\n",
    "The available methods are:\n",
    "* bit_write(bit#, value)\n",
    "* bit_read(bit#)\n",
    "* clk(bit#)\n",
    "* bus_write(end_index, start_index, value)\n",
    "* bus_read(end_index, start_index)\n",
    "\n",
    "### The example shows an _eight-bit counter_ having four inputs and three 8-bits output. The four inputs consist of a clock, clear (synchronous), up_dn, and enable. The outputs are binary, gray, and bcd. Only binary and bcd counts are being read."
   ]
  },
  {
   "cell_type": "markdown",
   "metadata": {},
   "source": [
    "<img src=\"images/SN_counter.png\" width=\"600px\"/>"
   ]
  },
  {
   "cell_type": "markdown",
   "metadata": {},
   "source": [
    "After implementing the design and generating a bitstream, copy the bitstream in pynq/overlays/digitallogic using Samba. Rename the bitstream file name to digitallogic.bit if necessary. The next step is to load the design using the following Python code."
   ]
  },
  {
   "cell_type": "code",
   "execution_count": 1,
   "metadata": {},
   "outputs": [
    {
     "data": {
      "application/javascript": [
       "\n",
       "require(['notebook/js/codecell'], function(codecell) {\n",
       "  codecell.CodeCell.options_default.highlight_modes[\n",
       "      'magic_text/x-csrc'] = {'reg':[/^%%microblaze/]};\n",
       "  Jupyter.notebook.events.one('kernel_ready.Kernel', function(){\n",
       "      Jupyter.notebook.get_cells().map(function(cell){\n",
       "          if (cell.cell_type == 'code'){ cell.auto_highlight(); } }) ;\n",
       "  });\n",
       "});\n"
      ]
     },
     "metadata": {},
     "output_type": "display_data"
    }
   ],
   "source": [
    "from pynq.overlays.digitallogic import DigitalLogicOverlay\n",
    "\n",
    "digital = DigitalLogicOverlay(\"digitallogic.bit\")"
   ]
  },
  {
   "cell_type": "markdown",
   "metadata": {},
   "source": [
    "### Testing the _8-bit counter_ \n",
    "We will set the counter in a up count mode, synchronously clear the counter, and then enable the counter. We then clock the counter 8 times and read the output. The binary count are read on a bus Din_47_40 and the bcd count is read on a bus Din_63_56.\n",
    "\n"
   ]
  },
  {
   "cell_type": "code",
   "execution_count": 3,
   "metadata": {},
   "outputs": [
    {
     "name": "stdout",
     "output_type": "stream",
     "text": [
      "00000001     00000001\n",
      "00000010     00000010\n",
      "00000011     00000011\n",
      "00000100     00000100\n",
      "00000101     00000101\n",
      "00000110     00000110\n",
      "00000111     00000111\n",
      "00001000     00001000\n",
      "00001001     00001001\n",
      "00001010     00010000\n",
      "00001011     00010001\n",
      "00001100     00010010\n",
      "00001101     00010011\n",
      "00001110     00010100\n",
      "00001111     00010101\n",
      "00010000     00010110\n"
     ]
    }
   ],
   "source": [
    "# up count\n",
    "digital.bit_write(1,1)\n",
    "#  synchronous clear; set clear and a clock pulse \n",
    "digital.bit_write(3,1)\n",
    "digital.bit_write(2,1)\n",
    "# negate clear and a clock pulse\n",
    "digital.clk(0)\n",
    "digital.bit_write(2,0)\n",
    "# clock the counter 16 times\n",
    "for i in range(0,16):\n",
    "    digital.clk(0)\n",
    "    bin_cnt=digital.bus_read(7,0)\n",
    "    bcd_cnt=digital.bus_read(15,8)\n",
    "    print(\"{0:b}\".format(bin_cnt).zfill(8), \"   \",\"{0:b}\".format(bcd_cnt).zfill(8))"
   ]
  },
  {
   "cell_type": "code",
   "execution_count": null,
   "metadata": {},
   "outputs": [],
   "source": []
  }
 ],
 "metadata": {
  "kernelspec": {
   "display_name": "Python 3",
   "language": "python",
   "name": "python3"
  },
  "language_info": {
   "codemirror_mode": {
    "name": "ipython",
    "version": 3
   },
   "file_extension": ".py",
   "mimetype": "text/x-python",
   "name": "python",
   "nbconvert_exporter": "python",
   "pygments_lexer": "ipython3",
   "version": "3.6.0"
  }
 },
 "nbformat": 4,
 "nbformat_minor": 2
}
