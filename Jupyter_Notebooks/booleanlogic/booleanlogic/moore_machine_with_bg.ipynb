{
 "cells": [
  {
   "cell_type": "markdown",
   "metadata": {},
   "source": [
    "### Booleanlogic overlay notebook example showing available APIs \n",
    "\n",
    "The available methods are:\n",
    "* bit_write\n",
    "* bit_read\n",
    "* clk\n",
    "\n",
    "### This example also illustrates how boolean function can be mixed with digital logic to implement a next state logic of a state machine"
   ]
  },
  {
   "cell_type": "markdown",
   "metadata": {},
   "source": [
    "Design a sequence detector implementing a Moore state machine. The state machine has two inputs (ain[1:0]) and one output (yout).  The output yout begins as 0 and remains a constant value unless one of the following input sequences occurs:  \n",
    "(i) The input sequence ain[1:0] = 01, 00 causes the output to become 0  \n",
    "(ii) The input sequence ain[1:0] = 11, 00 causes the output to become 1  \n",
    "(iii) The input sequence ain[1:0] = 10, 00 causes the output to toggle\n"
   ]
  },
  {
   "cell_type": "markdown",
   "metadata": {},
   "source": [
    "<img src=\"images/moore_machine_with_bg.png\" width=\"600px\"/>"
   ]
  },
  {
   "cell_type": "code",
   "execution_count": null,
   "metadata": {},
   "outputs": [],
   "source": [
    "from pynq.overlays.booleanlogic import BooleanLogicOverlay\n",
    "from pynq.overlays.booleanlogic.booleangenerator import BooleanGenerator\n",
    "\n",
    "boolean = BooleanLogicOverlay(\"booleanlogic.bit\")"
   ]
  },
  {
   "cell_type": "code",
   "execution_count": null,
   "metadata": {},
   "outputs": [],
   "source": [
    "bg=BooleanGenerator()"
   ]
  },
  {
   "cell_type": "markdown",
   "metadata": {},
   "source": [
    "Implement Next State(NS) logic in Boolean Generator by providing Boolean expressions. The NS has two outputs and four inputs.  \n",
    "D1 = (~ain[0] & ~ain[1] & Q2) | (ain[0] & Q1) | (ain[1] & Q1)  \n",
    "D2 = (ain[0] & ain[1]) | (~ain[0] & Q2) | (~ain[0] & ~ain[1] & Q2)  \n",
    "\n",
    "D1 is connected to BGout_00 and D2 is connected to BGout_01  \n",
    "ain[0] is connected to BGin_00, ain[1] to BGin_01, Q1 to BGin_02, and Q2 to BGin_03\n"
   ]
  },
  {
   "cell_type": "code",
   "execution_count": null,
   "metadata": {},
   "outputs": [],
   "source": [
    "function1 = ['DOUT0 = (~DIN0 & ~DIN1 & DIN3) | (DIN0 & DIN2) | (DIN1 & DIN2)', 'DOUT1 = (DIN0 & DIN1) | (~DIN0 & ~DIN1 & DIN3) | (~DIN2 & DIN1)']\n",
    "bg.setup(function1)"
   ]
  },
  {
   "cell_type": "markdown",
   "metadata": {},
   "source": [
    "Define a local method to reset the machine. Once defined it can subsequently used whenever system needs to be reset. "
   ]
  },
  {
   "cell_type": "code",
   "execution_count": null,
   "metadata": {},
   "outputs": [],
   "source": [
    "def reset():\n",
    "    boolean.bit_write(3,0)\n",
    "    boolean.bit_write(4,0)\n",
    "    boolean.bit_write(0,0)\n",
    "    boolean.bit_write(2,1)  # enable\n",
    "    boolean.bit_write(1,1)  # reset\n",
    "    boolean.clk(0)\n",
    "    boolean.bit_write(1,0)\n",
    "    boolean.clk(0)"
   ]
  },
  {
   "cell_type": "markdown",
   "metadata": {},
   "source": [
    "Reset the machine. Test for 11, 00 sequence. "
   ]
  },
  {
   "cell_type": "code",
   "execution_count": null,
   "metadata": {},
   "outputs": [],
   "source": [
    "reset()\n",
    "print(boolean.bit_read(0), 'output after reset')\n",
    "boolean.bit_write(3,0)\n",
    "boolean.bit_write(4,0)\n",
    "boolean.clk(0)\n",
    "print('input:00 output', boolean.bit_read(0))\n",
    "boolean.bit_write(3,1)\n",
    "boolean.bit_write(4,1)\n",
    "boolean.clk(0)\n",
    "print('input:11 output', boolean.bit_read(0))\n",
    "boolean.bit_write(3,0)\n",
    "boolean.bit_write(4,0)\n",
    "boolean.clk(0)\n",
    "print('input:00 output', boolean.bit_read(0))\n"
   ]
  },
  {
   "cell_type": "markdown",
   "metadata": {},
   "source": [
    "Continue testing to test 10,00 sequence. Note, the machine is not reset."
   ]
  },
  {
   "cell_type": "code",
   "execution_count": null,
   "metadata": {},
   "outputs": [],
   "source": [
    "boolean.bit_write(3,0)\n",
    "boolean.bit_write(4,0)\n",
    "boolean.clk(0)\n",
    "print('input:00 output', boolean.bit_read(0))\n",
    "boolean.bit_write(3,0)\n",
    "boolean.bit_write(4,1)\n",
    "boolean.clk(0)\n",
    "print('input:10 output', boolean.bit_read(0))\n",
    "boolean.bit_write(3,0)\n",
    "boolean.bit_write(4,0)\n",
    "boolean.clk(0)\n",
    "print('input:00 output', boolean.bit_read(0))\n"
   ]
  },
  {
   "cell_type": "markdown",
   "metadata": {},
   "source": [
    "Continue testing to test 01,00 sequence. Note, the machine is not reset."
   ]
  },
  {
   "cell_type": "code",
   "execution_count": null,
   "metadata": {},
   "outputs": [],
   "source": [
    "boolean.bit_write(3,0)\n",
    "boolean.bit_write(4,0)\n",
    "boolean.clk(0)\n",
    "print('input:00 output', boolean.bit_read(0))\n",
    "boolean.bit_write(3,1)\n",
    "boolean.bit_write(4,0)\n",
    "boolean.clk(0)\n",
    "print('input:01 output', boolean.bit_read(0))\n",
    "boolean.bit_write(3,0)\n",
    "boolean.bit_write(4,0)\n",
    "boolean.clk(0)\n",
    "print('input:00 output', boolean.bit_read(0))\n"
   ]
  },
  {
   "cell_type": "markdown",
   "metadata": {},
   "source": [
    "Reset the machine and then test for various input sequences"
   ]
  },
  {
   "cell_type": "code",
   "execution_count": null,
   "metadata": {},
   "outputs": [],
   "source": [
    "reset()\n",
    "print(boolean.bit_read(0), 'output after reset')\n",
    "boolean.bit_write(3,0)\n",
    "boolean.bit_write(4,0)\n",
    "boolean.clk(0)\n",
    "print('input:00 output', boolean.bit_read(0), 'output should remain 0')\n",
    "boolean.bit_write(3,1)\n",
    "boolean.bit_write(4,1)\n",
    "boolean.clk(0)\n",
    "print('input:11 output', boolean.bit_read(0), 'output should remain 0')\n",
    "boolean.bit_write(3,0)\n",
    "boolean.bit_write(4,1)\n",
    "boolean.clk(0)\n",
    "print('input:10 output', boolean.bit_read(0), 'output should remain 0')\n",
    "boolean.bit_write(3,0)\n",
    "boolean.bit_write(4,0)\n",
    "boolean.clk(0)\n",
    "print('input:00 output', boolean.bit_read(0), 'output should toggle to 1')\n",
    "boolean.bit_write(3,0)\n",
    "boolean.bit_write(4,1)\n",
    "boolean.clk(0)\n",
    "print('input:10 output', boolean.bit_read(0), 'output should remain 1')\n",
    "boolean.bit_write(3,0)\n",
    "boolean.bit_write(4,0)\n",
    "boolean.clk(0)\n",
    "print('input:00 output', boolean.bit_read(0), 'output should toggle to 0')\n",
    "\n",
    "boolean.bit_write(3,1)\n",
    "boolean.bit_write(4,1)\n",
    "boolean.clk(0)\n",
    "print('input:11 output', boolean.bit_read(0), 'output should remain 0')\n",
    "boolean.bit_write(3,0)\n",
    "boolean.bit_write(4,0)\n",
    "boolean.clk(0)\n",
    "print('input:00 output', boolean.bit_read(0), 'output set to 1')\n",
    "boolean.bit_write(3,1)\n",
    "boolean.bit_write(4,0)\n",
    "boolean.clk(0)\n",
    "print('input:01 output', boolean.bit_read(0), 'output should remain 1')\n",
    "boolean.bit_write(3,0)\n",
    "boolean.bit_write(4,0)\n",
    "boolean.clk(0)\n",
    "print('input:00 output', boolean.bit_read(0), 'output should reset to 0')\n",
    "boolean.bit_write(3,0)\n",
    "boolean.bit_write(4,1)\n",
    "boolean.clk(0)\n",
    "print('input:10 output', boolean.bit_read(0), 'output should remain 0')\n",
    "boolean.bit_write(3,1)\n",
    "boolean.bit_write(4,1)\n",
    "boolean.clk(0)\n",
    "print('input:11 output', boolean.bit_read(0), 'output should remain 0')\n",
    "boolean.bit_write(3,0)\n",
    "boolean.bit_write(4,0)\n",
    "boolean.clk(0)\n",
    "print('input:00 output', boolean.bit_read(0), 'output should toggle to 1')\n"
   ]
  },
  {
   "cell_type": "code",
   "execution_count": null,
   "metadata": {},
   "outputs": [],
   "source": []
  }
 ],
 "metadata": {
  "kernelspec": {
   "display_name": "Python 3",
   "language": "python",
   "name": "python3"
  },
  "language_info": {
   "codemirror_mode": {
    "name": "ipython",
    "version": 3
   },
   "file_extension": ".py",
   "mimetype": "text/x-python",
   "name": "python",
   "nbconvert_exporter": "python",
   "pygments_lexer": "ipython3",
   "version": "3.6.0"
  }
 },
 "nbformat": 4,
 "nbformat_minor": 2
}
