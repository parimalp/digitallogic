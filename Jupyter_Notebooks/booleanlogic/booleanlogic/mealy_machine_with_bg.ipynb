{
 "cells": [
  {
   "cell_type": "markdown",
   "metadata": {},
   "source": [
    "### Booleanlogic overlay notebook example showing used APIs \n",
    "\n",
    "The available methods are:\n",
    "* bit_write\n",
    "* bit_read\n",
    "* clk\n",
    "\n",
    "### This example also illustrates how boolean function can be mixed with digital logic to implement an output function of a state machine"
   ]
  },
  {
   "cell_type": "markdown",
   "metadata": {},
   "source": [
    "Design a sequence detector implementing a Mealy state machine. The state machine has one input (ain) and one output (yout).  The output yout is 1 if and only if the total number of 1s received is divisible by 3 (hint: 0 is inclusive, however, reset cycle(s) do not count as 0)"
   ]
  },
  {
   "cell_type": "markdown",
   "metadata": {},
   "source": [
    "<img src=\"images/mealy_machine_with_bg.png\" width=\"600px\"/>"
   ]
  },
  {
   "cell_type": "code",
   "execution_count": 1,
   "metadata": {},
   "outputs": [
    {
     "data": {
      "application/javascript": [
       "\n",
       "require(['notebook/js/codecell'], function(codecell) {\n",
       "  codecell.CodeCell.options_default.highlight_modes[\n",
       "      'magic_text/x-csrc'] = {'reg':[/^%%microblaze/]};\n",
       "  Jupyter.notebook.events.one('kernel_ready.Kernel', function(){\n",
       "      Jupyter.notebook.get_cells().map(function(cell){\n",
       "          if (cell.cell_type == 'code'){ cell.auto_highlight(); } }) ;\n",
       "  });\n",
       "});\n"
      ]
     },
     "metadata": {},
     "output_type": "display_data"
    }
   ],
   "source": [
    "from pynq.overlays.booleanlogic import BooleanLogicOverlay\n",
    "from pynq.overlays.booleanlogic.booleangenerator import BooleanGenerator\n",
    "\n",
    "boolean = BooleanLogicOverlay(\"booleanlogic.bit\")"
   ]
  },
  {
   "cell_type": "code",
   "execution_count": 2,
   "metadata": {},
   "outputs": [],
   "source": [
    "bg=BooleanGenerator()"
   ]
  },
  {
   "cell_type": "markdown",
   "metadata": {
    "slideshow": {
     "slide_type": "subslide"
    }
   },
   "source": [
    "Implement Output logic in Boolean Generator by providing a Boolean expression since only one output is required.   \n",
    "yout = (reset_n & ain_n & Q1_n & Q2_n & Q3_n) | (ain & Q1 & Q2 & Q3_n)  \n",
    "\n",
    "yout is connected to BGout_00  \n",
    "reset_n is connected to BGin_00, Q2 to BGin_01, Q1 to BGin_02, Q3_n to BGin_03, and ain to BGin_04\n"
   ]
  },
  {
   "cell_type": "code",
   "execution_count": 3,
   "metadata": {},
   "outputs": [],
   "source": [
    "function1 = ['DOUT0 = (DIN0 & ~DIN4 & ~DIN2 & ~DIN1 & DIN3) | (DIN4 & DIN2 & DIN1 & DIN3)']\n",
    "bg.setup(function1)"
   ]
  },
  {
   "cell_type": "code",
   "execution_count": 4,
   "metadata": {},
   "outputs": [],
   "source": [
    "def reset():\n",
    "    boolean.bit_write(3,0)\n",
    "    boolean.bit_write(0,0)  # make sure clk starts at logic 0\n",
    "    boolean.bit_write(2,1)  # enable\n",
    "    boolean.bit_write(1,1)  # reset\n",
    "    boolean.clk(0)\n",
    "    boolean.bit_write(1,0)\n",
    "    boolean.clk(0)"
   ]
  },
  {
   "cell_type": "code",
   "execution_count": 5,
   "metadata": {},
   "outputs": [
    {
     "name": "stdout",
     "output_type": "stream",
     "text": [
      "output after reset 0\n",
      "input:0 output 0\n",
      "input:0 output 0\n",
      "input:1 output 0\n",
      "input:1 output 0\n",
      "input:1 output 0\n",
      "input:1 output 0\n",
      "input:1 output 0\n",
      "input:1 output 0\n",
      "input:0 output 0\n",
      "input:0 output 0\n",
      "input:0 output 0\n",
      "input:0 output 0\n"
     ]
    }
   ],
   "source": [
    "reset()\n",
    "print('output after reset', boolean.bit_read(0))\n",
    "boolean.bit_write(3,0)\n",
    "boolean.clk(0)\n",
    "print('input:0 output', boolean.bit_read(0))\n",
    "boolean.bit_write(3,0)\n",
    "boolean.clk(0)\n",
    "print('input:0 output', boolean.bit_read(0))\n",
    "boolean.bit_write(3,1)\n",
    "boolean.clk(0)\n",
    "print('input:1 output', boolean.bit_read(0))\n",
    "boolean.bit_write(3,1)\n",
    "boolean.clk(0)\n",
    "print('input:1 output', boolean.bit_read(0))\n",
    "boolean.bit_write(3,1)\n",
    "boolean.clk(0)\n",
    "print('input:1 output', boolean.bit_read(0))\n",
    "boolean.bit_write(3,1)\n",
    "boolean.clk(0)\n",
    "print('input:1 output', boolean.bit_read(0))\n",
    "boolean.bit_write(3,1)\n",
    "boolean.clk(0)\n",
    "print('input:1 output', boolean.bit_read(0))\n",
    "boolean.bit_write(3,1)\n",
    "boolean.clk(0)\n",
    "print('input:1 output', boolean.bit_read(0))\n",
    "boolean.bit_write(3,0)\n",
    "boolean.clk(0)\n",
    "print('input:0 output', boolean.bit_read(0))\n",
    "boolean.bit_write(3,0)\n",
    "boolean.clk(0)\n",
    "print('input:0 output', boolean.bit_read(0))\n",
    "boolean.bit_write(3,0)\n",
    "boolean.clk(0)\n",
    "print('input:0 output', boolean.bit_read(0))\n",
    "boolean.bit_write(3,0)\n",
    "boolean.clk(0)\n",
    "print('input:0 output', boolean.bit_read(0))"
   ]
  },
  {
   "cell_type": "code",
   "execution_count": null,
   "metadata": {},
   "outputs": [],
   "source": []
  }
 ],
 "metadata": {
  "kernelspec": {
   "display_name": "Python 3",
   "language": "python",
   "name": "python3"
  },
  "language_info": {
   "codemirror_mode": {
    "name": "ipython",
    "version": 3
   },
   "file_extension": ".py",
   "mimetype": "text/x-python",
   "name": "python",
   "nbconvert_exporter": "python",
   "pygments_lexer": "ipython3",
   "version": "3.6.0"
  }
 },
 "nbformat": 4,
 "nbformat_minor": 2
}
