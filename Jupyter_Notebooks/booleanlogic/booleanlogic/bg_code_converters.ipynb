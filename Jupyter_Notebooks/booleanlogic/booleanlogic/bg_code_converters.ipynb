{
 "cells": [
  {
   "cell_type": "markdown",
   "metadata": {},
   "source": [
    "### Booleanlogic overlay notebook example showing available APIs \n",
    "\n",
    "* bus_read\n",
    "* bus_write  \n",
    "* clear"
   ]
  },
  {
   "cell_type": "markdown",
   "metadata": {},
   "source": [
    "A code converter that has four inputs and outputs implementing **BCD** to **6-3-1-1**, **BCD** to **Excess-3**, and **BCD** to **Gray code** converters. BGout_00 and Dout_00 are LSB.  Functions are implemented in the Boolean Generator and validated using Digital input/output. The digital output (Dout_00 to Dount03) provides stimuli input to the Boolean Generator input (BGin_00 to BGin_03), and the digital inpit (Din_00 to Din_03) reads the Boolean Generaor output (BGout_00 to BGout_03).\n",
    "\n",
    "| BCD  | 6-3-1-1 | Excess-3 | Gray |\n",
    "| -----|---------|----------|----- |\n",
    "| 0000 | 0000    | 0011     | 0000 | \n",
    "| 0001 | 0001    | 0100     | 0001 |\n",
    "| 0010 | 0011    | 0101     | 0011 |\n",
    "| 0011 | 0100    | 0110     | 0010 |\n",
    "| 0100 | 0101    | 0111     | 0110 |  \n",
    "| 0101 | 0111    | 1000     | 1110 |\n",
    "| 0110 | 1000    | 1001     | 1010 |\n",
    "| 0111 | 1001    | 1010     | 1011 |\n",
    "| 1000 | 1011    | 1011     | 1001 |\n",
    "| 1001 | 1100    | 1100     | 1000 |\n"
   ]
  },
  {
   "cell_type": "markdown",
   "metadata": {},
   "source": [
    "<img src=\"images/bg_code_converters.png\" width=\"600px\"/>"
   ]
  },
  {
   "cell_type": "code",
   "execution_count": 1,
   "metadata": {},
   "outputs": [
    {
     "data": {
      "application/javascript": [
       "\n",
       "require(['notebook/js/codecell'], function(codecell) {\n",
       "  codecell.CodeCell.options_default.highlight_modes[\n",
       "      'magic_text/x-csrc'] = {'reg':[/^%%microblaze/]};\n",
       "  Jupyter.notebook.events.one('kernel_ready.Kernel', function(){\n",
       "      Jupyter.notebook.get_cells().map(function(cell){\n",
       "          if (cell.cell_type == 'code'){ cell.auto_highlight(); } }) ;\n",
       "  });\n",
       "});\n"
      ]
     },
     "metadata": {},
     "output_type": "display_data"
    }
   ],
   "source": [
    "from pynq.overlays.booleanlogic import BooleanLogicOverlay\n",
    "from pynq.overlays.booleanlogic.booleangenerator import BooleanGenerator\n",
    "\n",
    "boolean = BooleanLogicOverlay(\"booleanlogic.bit\")"
   ]
  },
  {
   "cell_type": "code",
   "execution_count": 2,
   "metadata": {},
   "outputs": [],
   "source": [
    "bg=BooleanGenerator()"
   ]
  },
  {
   "cell_type": "markdown",
   "metadata": {},
   "source": [
    "**BCD -> Gray Code**"
   ]
  },
  {
   "cell_type": "code",
   "execution_count": 3,
   "metadata": {},
   "outputs": [],
   "source": [
    "function1 = ['DOUT0 = (~DIN3 & ~DIN2 & ~DIN1 & DIN0) | (~DIN0 & DIN3) | (DIN2 & DIN1 & DIN0) | (~DIN2 & DIN1 & ~DIN0)', 'DOUT1 = (DIN1 | DIN2)', 'DOUT2 = (DIN2 & ~DIN1)', 'DOUT3 = DIN3 | (DIN2 & DIN1) | (DIN2 & DIN0)']\n",
    "bg.setup(function1)"
   ]
  },
  {
   "cell_type": "code",
   "execution_count": 4,
   "metadata": {},
   "outputs": [
    {
     "name": "stdout",
     "output_type": "stream",
     "text": [
      "0 0000 0000\n",
      "1 0001 0001\n",
      "2 0010 0011\n",
      "3 0011 0010\n",
      "4 0100 0110\n",
      "5 0101 1110\n",
      "6 0110 1010\n",
      "7 0111 1011\n",
      "8 1000 1001\n",
      "9 1001 1000\n"
     ]
    }
   ],
   "source": [
    "for i in range (0, 10):\n",
    "    boolean.bus_write(3,0,i)\n",
    "    result=boolean.bus_read(3,0)\n",
    "    result=\"{0:b}\".format(result)\n",
    "    result=result.zfill(4)\n",
    "    print(i, \"{0:b}\".format(i).zfill(4), result)"
   ]
  },
  {
   "cell_type": "markdown",
   "metadata": {},
   "source": [
    "**BCD -> Excess-3 Code**"
   ]
  },
  {
   "cell_type": "markdown",
   "metadata": {},
   "source": [
    "Since same output pins will be used for the another function, the output pins list need to be cleared so another set of fuctions can use the same pins. Use the **clear** method."
   ]
  },
  {
   "cell_type": "code",
   "execution_count": null,
   "metadata": {},
   "outputs": [],
   "source": [
    "bg.clear(function1)"
   ]
  },
  {
   "cell_type": "code",
   "execution_count": null,
   "metadata": {},
   "outputs": [],
   "source": [
    "function2 = ['DOUT0 = ~DIN0', 'DOUT1 = (DIN1 & DIN0) | (~DIN1 & ~DIN0)', 'DOUT2 = (~DIN2 & DIN1) | (~DIN2 & DIN0) | (DIN2 & ~DIN1 & ~DIN0)', 'DOUT3 = DIN3 | (DIN2 & DIN1) | (DIN2 & DIN0)']\n",
    "bg.setup(function2)"
   ]
  },
  {
   "cell_type": "code",
   "execution_count": null,
   "metadata": {},
   "outputs": [],
   "source": [
    "for i in range (0, 10):\n",
    "    boolean.bus_write(3,0,i)\n",
    "    result=boolean.bus_read(3,0)\n",
    "    result=\"{0:b}\".format(result)\n",
    "    result=result.zfill(4)\n",
    "    print(i, \"{0:b}\".format(i).zfill(4), result)\n"
   ]
  },
  {
   "cell_type": "markdown",
   "metadata": {},
   "source": [
    "**BCD -> 6-3-1-1**"
   ]
  },
  {
   "cell_type": "markdown",
   "metadata": {},
   "source": [
    "Since same output pins will be used for the another function, the output pins list need to be cleared so another set of fuctions can use the same pins. Use the **clear** method."
   ]
  },
  {
   "cell_type": "code",
   "execution_count": null,
   "metadata": {},
   "outputs": [],
   "source": [
    "bg.clear(function2)"
   ]
  },
  {
   "cell_type": "code",
   "execution_count": null,
   "metadata": {},
   "outputs": [],
   "source": [
    "function3 = ['DOUT0 = (DIN3 & ~DIN0) | (~DIN2 & DIN1 & ~DIN0) | (DIN2 & DIN0) | (DIN2 & ~DIN1) | (~DIN3 & ~DIN1 & DIN0)', 'DOUT1 = (DIN3 & ~DIN0) | (DIN2 & ~DIN1 & DIN0) | (~DIN2 & DIN1 & ~DIN0)', 'DOUT2 = (DIN2 & ~DIN1) | (DIN3 & DIN0) | (~DIN2 & DIN1 & DIN0)', 'DOUT3 = DIN3 | (DIN2 & DIN1)']\n",
    "bg.setup(function3)"
   ]
  },
  {
   "cell_type": "code",
   "execution_count": null,
   "metadata": {},
   "outputs": [],
   "source": [
    "for i in range (0, 10):\n",
    "    boolean.bus_write(3,0,i)\n",
    "    result=boolean.bus_read(3,0)\n",
    "    result=\"{0:b}\".format(result)\n",
    "    result=result.zfill(4)\n",
    "    print(i, \"{0:b}\".format(i).zfill(4), result)\n"
   ]
  }
 ],
 "metadata": {
  "kernelspec": {
   "display_name": "Python 3",
   "language": "python",
   "name": "python3"
  },
  "language_info": {
   "codemirror_mode": {
    "name": "ipython",
    "version": 3
   },
   "file_extension": ".py",
   "mimetype": "text/x-python",
   "name": "python",
   "nbconvert_exporter": "python",
   "pygments_lexer": "ipython3",
   "version": "3.6.0"
  }
 },
 "nbformat": 4,
 "nbformat_minor": 2
}
